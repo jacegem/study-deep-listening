{
 "cells": [
  {
   "cell_type": "markdown",
   "metadata": {},
   "source": [
    "# 예측\n",
    "\n",
    "출처: https://github.com/jaron/deep-listening/blob/master/2-us8k-ffn-train-predict.ipynb\n",
    "\n",
    "\n",
    "Workbook 2 - Training a Feed-Forward Neural Network using UrbanSound8K audio data\n",
    "\n",
    "> 통합 문서 2 - UrbanSound8K 오디오 데이터를 사용하여 피드 포워드 신경망 훈련\n",
    "\n",
    "This loads the features we extracted using librosa (see workbook 1), and uses them to train a Feed-Forward Network, a simple deep neural net with a few hidden layers, and then predict the class of a set of previously unheard audio files. You will need librosa, keras and tensorflow installed to run this code, and the latest version of scikit-learn (currently 0.18.1).\n",
    "\n",
    "> 이렇게 하면 librosa (통합 문서 1 참조)를 사용하여 추출한 기능을 로드하고 숨겨진 레이어가 있는 간단한 신경망인 Feed-Forward 네트워크를 학습한 다음 이전에 들리지 않은 오디오 파일 세트의 클래스를 예측할 수 있습니다. 이 코드를 실행하기 위해 설치된 librosa, keras 및 tensorflow와 최신 scikit-learn 버전이 필요합니다.\n",
    "\n",
    "## 패키지 설치\n",
    "```shell\n",
    "pip install keras tensorflow sklearn h5py\n",
    "```\n"
   ]
  },
  {
   "cell_type": "code",
   "execution_count": 1,
   "metadata": {
    "collapsed": true
   },
   "outputs": [],
   "source": [
    "import glob\n",
    "import os\n",
    "import numpy as np\n",
    "import matplotlib.pyplot as plt\n",
    "%matplotlib inline\n",
    "plt.style.use('ggplot')"
   ]
  },
  {
   "cell_type": "markdown",
   "metadata": {},
   "source": [
    "This code below loads previously computed numpy features for each of the 10 folds, we'll use the first 8 for training, and keep one back for validation and one for testing.\n",
    "\n",
    "> 이 코드는 이전에 계산된 10개의 폴드에 대해서 numpy 피쳐를 로드합니다. \n",
    "> 처음 8개는 트레이닝에 사용하며 1개는 유효성 확인을 위해서 마지막 1개는 테스트를 위해서 유지합니다. \n"
   ]
  },
  {
   "cell_type": "code",
   "execution_count": 2,
   "metadata": {},
   "outputs": [
    {
     "name": "stdout",
     "output_type": "stream",
     "text": [
      "Adding fold1\n",
      "New Features:  (871, 193)\n",
      "Adding fold2\n",
      "New Features:  (888, 193)\n",
      "Adding fold3\n",
      "New Features:  (925, 193)\n",
      "Adding fold4\n",
      "New Features:  (990, 193)\n",
      "Adding fold5\n",
      "New Features:  (936, 193)\n",
      "Adding fold6\n",
      "New Features:  (823, 193)\n",
      "Adding fold7\n",
      "New Features:  (838, 193)\n",
      "Adding fold8\n",
      "New Features:  (806, 193)\n"
     ]
    }
   ],
   "source": [
    "data_dir = 'data/us8k-np-ffn'\n",
    "\n",
    "def add_folds():\n",
    "    subsequent_fold = False\n",
    "    for k in range(1, 9):\n",
    "        fold_name = 'fold' + str(k)\n",
    "        print('Adding ' + fold_name)\n",
    "        feature_file = os.path.join(data_dir, fold_name + '_x.npy')\n",
    "        labels_file = os.path.join(data_dir, fold_name + '_y.npy')\n",
    "        loaded_features = np.load(feature_file)\n",
    "        loaded_labels = np.load(labels_file)\n",
    "        print(\"New Features: \", loaded_features.shape)\n",
    "        \n",
    "        if subsequent_fold:\n",
    "            features = np.concatenate((features, loaded_features))\n",
    "            labels = np.concatenate((labels, loaded_labels))\n",
    "        else:\n",
    "            features = loaded_features\n",
    "            labels = loaded_labels\n",
    "            subsequent_fold = True\n",
    "        \n",
    "    return features, labels    \n",
    "    \n",
    "train_x, train_y = add_folds()"
   ]
  },
  {
   "cell_type": "code",
   "execution_count": 3,
   "metadata": {},
   "outputs": [
    {
     "name": "stdout",
     "output_type": "stream",
     "text": [
      "Training Set Features: (7077, 193) Labels: (7077, 10)\n",
      "Validation Set Features: (816, 193) Labels: (816, 10)\n",
      "Test Set Features: (837, 193) Labels: (837, 10)\n"
     ]
    }
   ],
   "source": [
    "valid_fold_name = 'fold9'\n",
    "feature_file = os.path.join(data_dir, valid_fold_name + '_x.npy')\n",
    "labels_file = os.path.join(data_dir, valid_fold_name + '_y.npy')\n",
    "valid_x = np.load(feature_file)\n",
    "valid_y = np.load(labels_file)\n",
    "\n",
    "# and a fold for testing\n",
    "test_fold_name = 'fold10'\n",
    "feature_file = os.path.join(data_dir, test_fold_name + '_x.npy')\n",
    "labels_file = os.path.join(data_dir, test_fold_name + '_y.npy')\n",
    "test_x = np.load(feature_file)\n",
    "test_y = np.load(labels_file)\n",
    "\n",
    "print(\"Training Set Features: {} Labels: {}\".format(str(train_x.shape), str(train_y.shape)))\n",
    "print(\"Validation Set Features: {} Labels: {}\".format(str(valid_x.shape), str(valid_y.shape)))\n",
    "print(\"Test Set Features: {} Labels: {}\".format(str(test_x.shape), str(test_y.shape)))"
   ]
  },
  {
   "cell_type": "code",
   "execution_count": 4,
   "metadata": {},
   "outputs": [
    {
     "name": "stderr",
     "output_type": "stream",
     "text": [
      "E:\\4.SDK\\Miniconda3_64\\lib\\site-packages\\h5py\\__init__.py:36: FutureWarning: Conversion of the second argument of issubdtype from `float` to `np.floating` is deprecated. In future, it will be treated as `np.float64 == np.dtype(float).type`.\n",
      "  from ._conv import register_converters as _register_converters\n",
      "Using TensorFlow backend.\n"
     ]
    }
   ],
   "source": [
    "import tensorflow as tf\n",
    "from sklearn.metrics import precision_recall_fscore_support, roc_auc_score\n",
    "from keras.models import Sequential\n",
    "from keras.layers import Dense, Dropout\n",
    "from keras.optimizers import Adam\n",
    "from keras.callbacks import EarlyStopping"
   ]
  },
  {
   "cell_type": "code",
   "execution_count": 6,
   "metadata": {},
   "outputs": [
    {
     "name": "stdout",
     "output_type": "stream",
     "text": [
      "Features: 193 Classes: 10\n"
     ]
    }
   ],
   "source": [
    "def assure_path_exists(path):\n",
    "    mydir = os.path.join(os.getcwd(), path)\n",
    "    if not os.path.exists(mydir):\n",
    "        os.makedirs(mydir)\n",
    "\n",
    "# neural network dimensions\n",
    "n_dim = train_x.shape[1]\n",
    "n_classes = train_y.shape[1]\n",
    "n_hidden_units_1 = n_dim\n",
    "n_hidden_units_2 = 400 # approx n_dim + 2\n",
    "n_hidden_units_3 = 200 # half of layer 2\n",
    "\n",
    "checkpoint_dir = \"model\"\n",
    "assure_path_exists(checkpoint_dir)\n",
    "\n",
    "print(\"Features: {} Classes: {}\".format(n_dim, n_classes))"
   ]
  },
  {
   "cell_type": "code",
   "execution_count": 9,
   "metadata": {},
   "outputs": [
    {
     "data": {
      "text/plain": [
       "(7077, 193)"
      ]
     },
     "execution_count": 9,
     "metadata": {},
     "output_type": "execute_result"
    }
   ],
   "source": [
    "train_x.shape"
   ]
  },
  {
   "cell_type": "code",
   "execution_count": 49,
   "metadata": {},
   "outputs": [
    {
     "name": "stderr",
     "output_type": "stream",
     "text": [
      "E:\\4.SDK\\Miniconda3_64\\lib\\site-packages\\ipykernel_launcher.py:9: UserWarning: Update your `Dense` call to the Keras 2 API: `Dense(400, activation=\"relu\", kernel_initializer=\"normal\")`\n",
      "  if __name__ == '__main__':\n",
      "E:\\4.SDK\\Miniconda3_64\\lib\\site-packages\\ipykernel_launcher.py:12: UserWarning: Update your `Dense` call to the Keras 2 API: `Dense(200, activation=\"relu\", kernel_initializer=\"normal\")`\n",
      "  if sys.path[0] == '':\n",
      "E:\\4.SDK\\Miniconda3_64\\lib\\site-packages\\ipykernel_launcher.py:15: UserWarning: Update your `Dense` call to the Keras 2 API: `Dense(10, activation=\"softmax\", kernel_initializer=\"normal\")`\n",
      "  from ipykernel import kernelapp as app\n",
      "E:\\4.SDK\\Miniconda3_64\\lib\\site-packages\\keras\\models.py:939: UserWarning: The `nb_epoch` argument in `fit` has been renamed `epochs`.\n",
      "  warnings.warn('The `nb_epoch` argument in `fit` '\n"
     ]
    },
    {
     "name": "stdout",
     "output_type": "stream",
     "text": [
      "Train on 7077 samples, validate on 816 samples\n",
      "Epoch 1/30\n",
      "7077/7077 [==============================] - 2s 328us/step - loss: 3.5785 - acc: 0.2840 - val_loss: 1.6654 - val_acc: 0.3652\n",
      "Epoch 2/30\n",
      "7077/7077 [==============================] - 1s 177us/step - loss: 1.9735 - acc: 0.3944 - val_loss: 1.5826 - val_acc: 0.3922\n",
      "Epoch 3/30\n",
      "7077/7077 [==============================] - 1s 176us/step - loss: 1.7006 - acc: 0.4614 - val_loss: 1.5447 - val_acc: 0.4326\n",
      "Epoch 4/30\n",
      "7077/7077 [==============================] - 1s 185us/step - loss: 1.5371 - acc: 0.5053 - val_loss: 1.4740 - val_acc: 0.4755\n",
      "Epoch 5/30\n",
      "7077/7077 [==============================] - 1s 198us/step - loss: 1.4105 - acc: 0.5494 - val_loss: 1.5102 - val_acc: 0.4877\n",
      "Epoch 6/30\n",
      "7077/7077 [==============================] - 1s 193us/step - loss: 1.3312 - acc: 0.5689 - val_loss: 1.5067 - val_acc: 0.5147\n",
      "Epoch 7/30\n",
      "7077/7077 [==============================] - 1s 182us/step - loss: 1.2175 - acc: 0.6110 - val_loss: 1.4132 - val_acc: 0.5637\n",
      "Epoch 8/30\n",
      "7077/7077 [==============================] - 1s 186us/step - loss: 1.1362 - acc: 0.6254 - val_loss: 1.4930 - val_acc: 0.5821\n",
      "Epoch 9/30\n",
      "7077/7077 [==============================] - 1s 202us/step - loss: 1.0920 - acc: 0.6496 - val_loss: 1.4717 - val_acc: 0.5674\n",
      "Epoch 10/30\n",
      "7077/7077 [==============================] - 1s 188us/step - loss: 1.0335 - acc: 0.6682 - val_loss: 1.4881 - val_acc: 0.5870\n",
      "Epoch 11/30\n",
      "7077/7077 [==============================] - 1s 194us/step - loss: 0.9552 - acc: 0.6881 - val_loss: 1.3856 - val_acc: 0.6005\n",
      "Epoch 12/30\n",
      "7077/7077 [==============================] - 1s 206us/step - loss: 0.9339 - acc: 0.6997 - val_loss: 1.5568 - val_acc: 0.5735\n",
      "Epoch 13/30\n",
      "7077/7077 [==============================] - 1s 190us/step - loss: 0.8901 - acc: 0.7161 - val_loss: 1.5027 - val_acc: 0.5772\n",
      "Epoch 14/30\n",
      "7077/7077 [==============================] - 1s 191us/step - loss: 0.8392 - acc: 0.7295 - val_loss: 1.5527 - val_acc: 0.6078\n",
      "Epoch 15/30\n",
      "7077/7077 [==============================] - 1s 193us/step - loss: 0.8005 - acc: 0.7448 - val_loss: 1.6316 - val_acc: 0.6164\n",
      "Epoch 16/30\n",
      "7077/7077 [==============================] - 1s 196us/step - loss: 0.7736 - acc: 0.7507 - val_loss: 1.6913 - val_acc: 0.6225\n",
      "Epoch 17/30\n",
      "7077/7077 [==============================] - 1s 194us/step - loss: 0.7457 - acc: 0.7596 - val_loss: 1.6671 - val_acc: 0.6078\n",
      "Epoch 18/30\n",
      "7077/7077 [==============================] - 1s 202us/step - loss: 0.7170 - acc: 0.7697 - val_loss: 1.7223 - val_acc: 0.6176\n",
      "Epoch 19/30\n",
      "7077/7077 [==============================] - 1s 200us/step - loss: 0.6979 - acc: 0.7736 - val_loss: 1.7627 - val_acc: 0.6029\n",
      "Epoch 20/30\n",
      "7077/7077 [==============================] - 2s 217us/step - loss: 0.6654 - acc: 0.7852 - val_loss: 1.6771 - val_acc: 0.6140\n",
      "Epoch 21/30\n",
      "7077/7077 [==============================] - 1s 196us/step - loss: 0.6525 - acc: 0.7910 - val_loss: 1.8247 - val_acc: 0.6115\n",
      "Epoch 00021: early stopping\n"
     ]
    }
   ],
   "source": [
    "tf.set_random_seed(0)\n",
    "np.random.seed(0)\n",
    "\n",
    "def create_model(activation_function=\"relu\", init_type=\"normal\", optimiser=\"Adamax\", dropout_rate=0.5):\n",
    "    model = Sequential()\n",
    "    # layer 1\n",
    "    model.add(Dense(n_hidden_units_1, input_dim=n_dim))\n",
    "    # layer 2\n",
    "    model.add(Dense(n_hidden_units_2, init=init_type, activation=activation_function))\n",
    "    model.add(Dropout(dropout_rate))\n",
    "    # layer 3\n",
    "    model.add(Dense(n_hidden_units_3, init=init_type, activation=activation_function))\n",
    "    model.add(Dropout(dropout_rate))\n",
    "    # output layer\n",
    "    model.add(Dense(n_classes, init=init_type, activation='softmax'))\n",
    "    \n",
    "    model.compile(loss='categorical_crossentropy', optimizer=optimiser, metrics=['accuracy'])\n",
    "    return model\n",
    "\n",
    "# a stopping function to stop trainning before we excessively overfit to the training set\n",
    "earlystop = EarlyStopping(monitor = 'val_loss', patience=10, verbose =1, mode='auto')\n",
    "\n",
    "model = create_model()\n",
    "\n",
    "history = model.fit(train_x, train_y, validation_data=(valid_x, valid_y), callbacks=[earlystop], nb_epoch=30, batch_size=24)            "
   ]
  },
  {
   "cell_type": "markdown",
   "metadata": {
    "collapsed": true
   },
   "source": [
    "## Measuring Accuracy"
   ]
  },
  {
   "cell_type": "code",
   "execution_count": 50,
   "metadata": {},
   "outputs": [
    {
     "name": "stdout",
     "output_type": "stream",
     "text": [
      "ROC:  0.91\n",
      "837/837 [==============================] - 0s 51us/step\n",
      "Accuracy =  0.60\n",
      "F-Score:  0.6\n"
     ]
    }
   ],
   "source": [
    "from sklearn import metrics\n",
    "from keras.utils import np_utils\n",
    "\n",
    "# obtain the prediction probabilities\n",
    "y_prob = model.predict_proba(test_x, verbose=0)\n",
    "# y_pred = np_utils.probas_to_classes(y_prob)\n",
    "y_pred = model.predict_classes(test_x)\n",
    "y_true = np.argmax(test_y, 1)\n",
    "\n",
    "roc = metrics.roc_auc_score(test_y, y_prob)\n",
    "print(\"ROC: \", round(roc, 2))\n",
    "\n",
    "# evaluate the model\n",
    "score, accuracy = model.evaluate(test_x, test_y, batch_size=32)\n",
    "print(\"Accuracy = {: .2f}\".format(accuracy))\n",
    "\n",
    "p, r, f, s = precision_recall_fscore_support(y_true, y_pred, average='micro')\n",
    "print('F-Score: ', round(f, 2))"
   ]
  },
  {
   "cell_type": "markdown",
   "metadata": {},
   "source": [
    "I used GridSearch (see section below) to investigate the best combinations of parameters, such as optimisers, dropout rates, hidden layers and activation functions. With 2 hidden layers the best accuracy I observed was an F-score of 0.59 (ROC = 0.89)\n",
    "\n",
    "With 3 hidden layers the best accuracy seen was an F-score of 0.645 (ROC=0.92), using the Adamax optimiser and a dropout rate of 0.5. There did not seem to be any benefit in using 4 hidden layers, the accuracy seemed equivalent to that achieved with just 2 hidden layers. (As the gradient computation is stochastic, you might get slightly different values when you run this code).\n",
    "\n",
    "ROC curves are typically used in binary classification, so to apply this measure to multi-class classification, it's first necessary to convert the predictions into boolean values, each representing positive or negative predictions for each possible class. This enables us to draw one ROC curve per class, or draw a composite ROC curve by using micro-averaging."
   ]
  },
  {
   "cell_type": "code",
   "execution_count": 51,
   "metadata": {},
   "outputs": [
    {
     "data": {
      "image/png": "[encoded data removed]",
      "text/plain": [
       "<matplotlib.figure.Figure at 0x2a2345bf358>"
      ]
     },
     "metadata": {},
     "output_type": "display_data"
    }
   ],
   "source": [
    "from sklearn.metrics import roc_curve, auc\n",
    "fpr = dict()\n",
    "tpr = dict()\n",
    "roc_auc = dict()\n",
    "\n",
    "for i in range(n_classes):\n",
    "    fpr[i], tpr[i], _ = roc_curve(test_y[:, i], y_prob[:, i])\n",
    "    roc_auc[i] = auc(fpr[i], tpr[i])\n",
    "    \n",
    "# Compute micro-average ROC curve and ROC area\n",
    "fpr['micro'], tpr['micro'], _ = roc_curve(test_y.ravel(), y_prob.ravel())\n",
    "roc_auc['micro'] = auc(fpr['micro'], tpr['micro'])\n",
    "\n",
    "plt.figure()\n",
    "lw = 2\n",
    "plt.plot(fpr[2], tpr[2], color='darkorange', lw=lw, label='ROC curve (area= %0.2f)' % roc_auc[2])\n",
    "plt.plot([0,1], [0,1], color='navy', lw=lw, linestyle='--')\n",
    "plt.xlim([0.0, 1.0])\n",
    "plt.ylim([0.0, 1.05])\n",
    "plt.xlabel('False Positive Rate')\n",
    "plt.ylabel('True Positive Rate')\n",
    "plt.title('Receiver operating characteristic')\n",
    "plt.legend(loc='lower right')\n",
    "plt.show()"
   ]
  },
  {
   "cell_type": "code",
   "execution_count": 52,
   "metadata": {},
   "outputs": [
    {
     "name": "stdout",
     "output_type": "stream",
     "text": [
      "Confusion_matrix\n",
      "             aircon   horn  child    dog  drill engine    gun hammer  siren  music\n",
      "      aircon     60      0      1      0      0     21      0     14      2      2\n",
      "        horn      4     25      0      0      2      0      0      1      0      1\n",
      "       child      6      1     78     12      0      1      0      0      1      1\n",
      "         dog      1      0     18     66      3      3      0      0      2      7\n",
      "       drill      0      0      6     10     58      1      0     20      3      2\n",
      "      engine     11      2      3     20      1     48      0      8      0      0\n",
      "         gun      0      0      0     17      0      0     14      0      1      0\n",
      "      hammer      5      0      4      0     21      0      0     65      0      1\n",
      "       siren      8      1     22      7      6      0      0      0     38      1\n",
      "       music     13      3     13      1     11      5      0      1      3     50\n"
     ]
    }
   ],
   "source": [
    "from sklearn.metrics import confusion_matrix\n",
    "\n",
    "labels = ['aircon', 'horn', 'child', 'dog', 'drill', 'engine', 'gun', 'hammer', 'siren', 'music']\n",
    "print(\"Confusion_matrix\")\n",
    "cm = confusion_matrix(y_true, y_pred)\n",
    "\n",
    "def print_cm(cm, labels, hide_zeroes=False, hide_diagonal=False, hide_threshold=None):\n",
    "    \"\"\"pretty print for confusion matrixes\"\"\"\n",
    "    columnwidth = max([len(x) for x in labels] + [7]) # 5 is value length\n",
    "    empty_cell = \" \" * columnwidth\n",
    "    # Print header\n",
    "    print(\"    \", empty_cell, end=\"\")\n",
    "    for label in labels:\n",
    "        print(\"%{0}s\".format(columnwidth) % label, end=\"\")\n",
    "    print()\n",
    "    # Print rows\n",
    "    for i, label in enumerate(labels):\n",
    "        print(\"     %{0}s\".format(columnwidth) % label, end=\"\")\n",
    "        for j in range(len(labels)):\n",
    "            cell = \"%{0}s\".format(columnwidth) % cm[i, j]\n",
    "            if hide_zeroes:\n",
    "                cell = cell if float(cm[i, j]) != 0 else empty_cell\n",
    "            if hide_diagonal:\n",
    "                cell = cell if i != j else empty_cell\n",
    "            if hide_threshold:\n",
    "                cell = cell if cm[i, j] > hide_threshold else empty_cell\n",
    "            print(cell, end=\"\")\n",
    "        print()\n",
    "\n",
    "print_cm(cm, labels)"
   ]
  },
  {
   "cell_type": "markdown",
   "metadata": {},
   "source": [
    "### Refinement and Optimisation\n",
    "\n",
    "The performance of a deep neural network is highly dependent on many configurable hyper-parameters, values that govern how the model actually works, and which are not changed during the course of learning. Some of these parameters will have a greater influence than others. The classic machine learning solution to this challenge is GridSearch, to successively train separate instances of a model with distinct values of key parameters, and then compare the resulting accuracy scores to identify which combination of parameters has produced the best results.\n",
    "\n",
    "Scikit-Learn provides GridSearch functionality that can be adapted for use with a neural network implemented using Keras, as described here: http://machinelearningmastery.com/grid-search-hyperparameters-deep-learning-models-python-keras/.\n",
    "\n",
    "Because the training process is computationally intensive, and must be repeated for each combination of hyper-parameter values, optimisation can be a slow, time-consuming process. The code below shows how the 3-layer network was trained with different stochastic gradient optimisers (https://keras.io/optimizers/), and reveals which algorithms work best for this particular problem domain.\n",
    "\n"
   ]
  },
  {
   "cell_type": "code",
   "execution_count": 57,
   "metadata": {},
   "outputs": [],
   "source": [
    "from keras.wrappers.scikit_learn import KerasClassifier\n",
    "from sklearn.model_selection import GridSearchCV\n",
    "from keras.constraints import maxnorm\n",
    "\n",
    "activations = ['relu', 'tanh', 'linear']\n",
    "batch_sizes = [10, 20, 30, 40, 50, 60]\n",
    "epochs = [10, 20, 30]\n",
    "dropout_rates = [0.0, 0.1, 0.2, 0.3, 0.4, 0.5, 0.6, 0.7, 0.8, 0.9]\n",
    "\n",
    "optimisers = ['SGD', 'RMSprop', 'Adagrad', 'Adadelta', 'Adam', 'Adamax', 'Nadam']\n",
    "\n",
    "model = KerasClassifier(build_fn=create_model, epochs=5, batch_size=24, verbose=0)\n",
    "\n",
    "# define the grid search parameters\n",
    "# just using one here for illustration, but add activation_function=activations\n",
    "# or dropout_rate=dropout_rates to grid search on other parameters\n",
    "param_grid = dict(optimiser=optimisers)\n",
    "grid = GridSearchCV(estimator = model, param_grid=param_grid, n_jobs=1)"
   ]
  },
  {
   "cell_type": "code",
   "execution_count": 58,
   "metadata": {},
   "outputs": [
    {
     "data": {
      "text/plain": [
       "GridSearchCV(cv=None, error_score='raise',\n",
       "       estimator=<keras.wrappers.scikit_learn.KerasClassifier object at 0x000002A2344B9240>,\n",
       "       fit_params=None, iid=True, n_jobs=1,\n",
       "       param_grid={'optimiser': ['SGD', 'RMSprop', 'Adagrad', 'Adadelta', 'Adam', 'Adamax', 'Nadam']},\n",
       "       pre_dispatch='2*n_jobs', refit=True, return_train_score='warn',\n",
       "       scoring=None, verbose=0)"
      ]
     },
     "execution_count": 58,
     "metadata": {},
     "output_type": "execute_result"
    }
   ],
   "source": [
    "grid"
   ]
  },
  {
   "cell_type": "code",
   "execution_count": null,
   "metadata": {
    "collapsed": true
   },
   "outputs": [],
   "source": []
  }
 ],
 "metadata": {
  "kernelspec": {
   "display_name": "Python 3",
   "language": "python",
   "name": "python3"
  },
  "language_info": {
   "codemirror_mode": {
    "name": "ipython",
    "version": 3
   },
   "file_extension": ".py",
   "mimetype": "text/x-python",
   "name": "python",
   "nbconvert_exporter": "python",
   "pygments_lexer": "ipython3",
   "version": "3.6.1"
  }
 },
 "nbformat": 4,
 "nbformat_minor": 2
}
